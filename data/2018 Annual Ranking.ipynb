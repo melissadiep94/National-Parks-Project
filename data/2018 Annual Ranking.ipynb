{
 "cells": [
  {
   "cell_type": "code",
   "execution_count": 1,
   "metadata": {},
   "outputs": [],
   "source": [
    "import os\n",
    "import pandas as pd\n",
    "import numpy\n",
    "import urllib.request, json\n",
    "import time\n",
    "from datetime import date\n",
    "import requests\n",
    "import pymongo"
   ]
  },
  {
   "cell_type": "code",
   "execution_count": 5,
   "metadata": {},
   "outputs": [
    {
     "data": {
      "text/html": [
       "<div>\n",
       "<style scoped>\n",
       "    .dataframe tbody tr th:only-of-type {\n",
       "        vertical-align: middle;\n",
       "    }\n",
       "\n",
       "    .dataframe tbody tr th {\n",
       "        vertical-align: top;\n",
       "    }\n",
       "\n",
       "    .dataframe thead th {\n",
       "        text-align: right;\n",
       "    }\n",
       "</style>\n",
       "<table border=\"1\" class=\"dataframe\">\n",
       "  <thead>\n",
       "    <tr style=\"text-align: right;\">\n",
       "      <th></th>\n",
       "      <th>ParkName</th>\n",
       "      <th>Rank</th>\n",
       "      <th>Value</th>\n",
       "      <th>PercentOfTotal</th>\n",
       "    </tr>\n",
       "  </thead>\n",
       "  <tbody>\n",
       "    <tr>\n",
       "      <th>0</th>\n",
       "      <td>Blue Ridge PKWY</td>\n",
       "      <td>1</td>\n",
       "      <td>14,099,485</td>\n",
       "      <td>0.0595</td>\n",
       "    </tr>\n",
       "    <tr>\n",
       "      <th>1</th>\n",
       "      <td>Golden Gate NRA</td>\n",
       "      <td>2</td>\n",
       "      <td>12,400,045</td>\n",
       "      <td>0.0523</td>\n",
       "    </tr>\n",
       "    <tr>\n",
       "      <th>2</th>\n",
       "      <td>Great Smoky Mountains NP</td>\n",
       "      <td>3</td>\n",
       "      <td>12,095,720</td>\n",
       "      <td>0.0510</td>\n",
       "    </tr>\n",
       "    <tr>\n",
       "      <th>3</th>\n",
       "      <td>Gateway NRA</td>\n",
       "      <td>4</td>\n",
       "      <td>8,404,728</td>\n",
       "      <td>0.0355</td>\n",
       "    </tr>\n",
       "    <tr>\n",
       "      <th>4</th>\n",
       "      <td>Lake Mead NRA</td>\n",
       "      <td>5</td>\n",
       "      <td>8,016,510</td>\n",
       "      <td>0.0338</td>\n",
       "    </tr>\n",
       "  </tbody>\n",
       "</table>\n",
       "</div>"
      ],
      "text/plain": [
       "                   ParkName  Rank       Value  PercentOfTotal\n",
       "0           Blue Ridge PKWY     1  14,099,485          0.0595\n",
       "1           Golden Gate NRA     2  12,400,045          0.0523\n",
       "2  Great Smoky Mountains NP     3  12,095,720          0.0510\n",
       "3               Gateway NRA     4   8,404,728          0.0355\n",
       "4             Lake Mead NRA     5   8,016,510          0.0338"
      ]
     },
     "execution_count": 5,
     "metadata": {},
     "output_type": "execute_result"
    }
   ],
   "source": [
    "file = \"../data/Annual Park Ranking Report 2018.csv\"\n",
    "df= pd.read_csv(file)\n",
    "df.head()"
   ]
  },
  {
   "cell_type": "code",
   "execution_count": 6,
   "metadata": {},
   "outputs": [
    {
     "data": {
      "text/html": [
       "<div>\n",
       "<style scoped>\n",
       "    .dataframe tbody tr th:only-of-type {\n",
       "        vertical-align: middle;\n",
       "    }\n",
       "\n",
       "    .dataframe tbody tr th {\n",
       "        vertical-align: top;\n",
       "    }\n",
       "\n",
       "    .dataframe thead th {\n",
       "        text-align: right;\n",
       "    }\n",
       "</style>\n",
       "<table border=\"1\" class=\"dataframe\">\n",
       "  <thead>\n",
       "    <tr style=\"text-align: right;\">\n",
       "      <th></th>\n",
       "      <th>ParkName</th>\n",
       "      <th>Rank</th>\n",
       "      <th>Value</th>\n",
       "      <th>PercentOfTotal</th>\n",
       "    </tr>\n",
       "  </thead>\n",
       "  <tbody>\n",
       "    <tr>\n",
       "      <th>0</th>\n",
       "      <td>Blue Ridge PKWY</td>\n",
       "      <td>1</td>\n",
       "      <td>14,099,485</td>\n",
       "      <td>0.0595</td>\n",
       "    </tr>\n",
       "    <tr>\n",
       "      <th>1</th>\n",
       "      <td>Golden Gate NRA</td>\n",
       "      <td>2</td>\n",
       "      <td>12,400,045</td>\n",
       "      <td>0.0523</td>\n",
       "    </tr>\n",
       "    <tr>\n",
       "      <th>2</th>\n",
       "      <td>Great Smoky Mountains NP</td>\n",
       "      <td>3</td>\n",
       "      <td>12,095,720</td>\n",
       "      <td>0.0510</td>\n",
       "    </tr>\n",
       "    <tr>\n",
       "      <th>3</th>\n",
       "      <td>Gateway NRA</td>\n",
       "      <td>4</td>\n",
       "      <td>8,404,728</td>\n",
       "      <td>0.0355</td>\n",
       "    </tr>\n",
       "    <tr>\n",
       "      <th>4</th>\n",
       "      <td>Lake Mead NRA</td>\n",
       "      <td>5</td>\n",
       "      <td>8,016,510</td>\n",
       "      <td>0.0338</td>\n",
       "    </tr>\n",
       "    <tr>\n",
       "      <th>...</th>\n",
       "      <td>...</td>\n",
       "      <td>...</td>\n",
       "      <td>...</td>\n",
       "      <td>...</td>\n",
       "    </tr>\n",
       "    <tr>\n",
       "      <th>375</th>\n",
       "      <td>Klondike Gold Rush NHP Alaska</td>\n",
       "      <td>376</td>\n",
       "      <td>297</td>\n",
       "      <td>0.0000</td>\n",
       "    </tr>\n",
       "    <tr>\n",
       "      <th>376</th>\n",
       "      <td>Nicodemus NHS</td>\n",
       "      <td>377</td>\n",
       "      <td>262</td>\n",
       "      <td>0.0000</td>\n",
       "    </tr>\n",
       "    <tr>\n",
       "      <th>377</th>\n",
       "      <td>Rio Grande W&amp;SR</td>\n",
       "      <td>378</td>\n",
       "      <td>126</td>\n",
       "      <td>0.0000</td>\n",
       "    </tr>\n",
       "    <tr>\n",
       "      <th>378</th>\n",
       "      <td>Port Chicago Naval Magazine NMEM</td>\n",
       "      <td>379</td>\n",
       "      <td>70</td>\n",
       "      <td>0.0000</td>\n",
       "    </tr>\n",
       "    <tr>\n",
       "      <th>379</th>\n",
       "      <td>Aniakchak NM &amp; PRES</td>\n",
       "      <td>380</td>\n",
       "      <td>36</td>\n",
       "      <td>0.0000</td>\n",
       "    </tr>\n",
       "  </tbody>\n",
       "</table>\n",
       "<p>380 rows × 4 columns</p>\n",
       "</div>"
      ],
      "text/plain": [
       "                             ParkName  Rank       Value  PercentOfTotal\n",
       "0                     Blue Ridge PKWY     1  14,099,485          0.0595\n",
       "1                     Golden Gate NRA     2  12,400,045          0.0523\n",
       "2            Great Smoky Mountains NP     3  12,095,720          0.0510\n",
       "3                         Gateway NRA     4   8,404,728          0.0355\n",
       "4                       Lake Mead NRA     5   8,016,510          0.0338\n",
       "..                                ...   ...         ...             ...\n",
       "375     Klondike Gold Rush NHP Alaska   376         297          0.0000\n",
       "376                     Nicodemus NHS   377         262          0.0000\n",
       "377                   Rio Grande W&SR   378         126          0.0000\n",
       "378  Port Chicago Naval Magazine NMEM   379          70          0.0000\n",
       "379               Aniakchak NM & PRES   380          36          0.0000\n",
       "\n",
       "[380 rows x 4 columns]"
      ]
     },
     "execution_count": 6,
     "metadata": {},
     "output_type": "execute_result"
    }
   ],
   "source": [
    "Report2018_df =df.loc[(df[\"Rank\"]> 0)]\n",
    "Report2018_df"
   ]
  },
  {
   "cell_type": "code",
   "execution_count": 8,
   "metadata": {},
   "outputs": [
    {
     "data": {
      "text/plain": [
       "['ParkName', 'Rank', 'Value', 'PercentOfTotal']"
      ]
     },
     "execution_count": 8,
     "metadata": {},
     "output_type": "execute_result"
    }
   ],
   "source": [
    "list(Report2018_df.columns.values)"
   ]
  },
  {
   "cell_type": "code",
   "execution_count": 9,
   "metadata": {},
   "outputs": [
    {
     "data": {
      "text/plain": [
       "ParkName           object\n",
       "Rank                int64\n",
       "Value              object\n",
       "PercentOfTotal    float64\n",
       "dtype: object"
      ]
     },
     "execution_count": 9,
     "metadata": {},
     "output_type": "execute_result"
    }
   ],
   "source": [
    "Report2018_df.dtypes\n"
   ]
  },
  {
   "cell_type": "code",
   "execution_count": 11,
   "metadata": {},
   "outputs": [
    {
     "name": "stdout",
     "output_type": "stream",
     "text": [
      "../data/Clean_Annual Park Ranking Report 2018.csv\n"
     ]
    }
   ],
   "source": [
    "#Output pandas dataframe into CSV file\n",
    "output_path = os.path.join('../data/Clean_Annual Park Ranking Report 2018.csv')\n",
    "print(output_path)\n",
    "Report2018_df.to_csv(output_path)"
   ]
  }
 ],
 "metadata": {
  "kernelspec": {
   "display_name": "Python 3",
   "language": "python",
   "name": "python3"
  },
  "language_info": {
   "codemirror_mode": {
    "name": "ipython",
    "version": 3
   },
   "file_extension": ".py",
   "mimetype": "text/x-python",
   "name": "python",
   "nbconvert_exporter": "python",
   "pygments_lexer": "ipython3",
   "version": "3.6.10"
  }
 },
 "nbformat": 4,
 "nbformat_minor": 4
}
