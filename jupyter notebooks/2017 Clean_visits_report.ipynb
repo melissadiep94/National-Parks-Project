{
 "cells": [
  {
   "cell_type": "code",
   "execution_count": 2,
   "metadata": {},
   "outputs": [],
   "source": [
    "import os\n",
    "import pandas as pd\n",
    "import numpy\n",
    "import urllib.request, json\n",
    "import time\n",
    "from datetime import date\n",
    "import requests\n",
    "import pymongo"
   ]
  },
  {
   "cell_type": "code",
   "execution_count": 7,
   "metadata": {},
   "outputs": [
    {
     "data": {
      "text/html": [
       "<div>\n",
       "<style scoped>\n",
       "    .dataframe tbody tr th:only-of-type {\n",
       "        vertical-align: middle;\n",
       "    }\n",
       "\n",
       "    .dataframe tbody tr th {\n",
       "        vertical-align: top;\n",
       "    }\n",
       "\n",
       "    .dataframe thead th {\n",
       "        text-align: right;\n",
       "    }\n",
       "</style>\n",
       "<table border=\"1\" class=\"dataframe\">\n",
       "  <thead>\n",
       "    <tr style=\"text-align: right;\">\n",
       "      <th></th>\n",
       "      <th>Year</th>\n",
       "      <th>ParkName</th>\n",
       "      <th>Rank</th>\n",
       "      <th>Value</th>\n",
       "      <th>PercentOfTotal</th>\n",
       "    </tr>\n",
       "  </thead>\n",
       "  <tbody>\n",
       "    <tr>\n",
       "      <th>0</th>\n",
       "      <td>2017</td>\n",
       "      <td>Natchez Trace PKWY</td>\n",
       "      <td>7</td>\n",
       "      <td>6124808</td>\n",
       "      <td>0.0258</td>\n",
       "    </tr>\n",
       "    <tr>\n",
       "      <th>1</th>\n",
       "      <td>2017</td>\n",
       "      <td>Chesapeake &amp; Ohio Canal NHP</td>\n",
       "      <td>8</td>\n",
       "      <td>4888436</td>\n",
       "      <td>0.0206</td>\n",
       "    </tr>\n",
       "    <tr>\n",
       "      <th>2</th>\n",
       "      <td>2017</td>\n",
       "      <td>Cape Cod NS</td>\n",
       "      <td>9</td>\n",
       "      <td>4083505</td>\n",
       "      <td>0.0172</td>\n",
       "    </tr>\n",
       "    <tr>\n",
       "      <th>3</th>\n",
       "      <td>2017</td>\n",
       "      <td>Delaware Water Gap NRA</td>\n",
       "      <td>10</td>\n",
       "      <td>4068529</td>\n",
       "      <td>0.0172</td>\n",
       "    </tr>\n",
       "    <tr>\n",
       "      <th>4</th>\n",
       "      <td>2017</td>\n",
       "      <td>Gulf Islands NS</td>\n",
       "      <td>11</td>\n",
       "      <td>4012129</td>\n",
       "      <td>0.0169</td>\n",
       "    </tr>\n",
       "  </tbody>\n",
       "</table>\n",
       "</div>"
      ],
      "text/plain": [
       "   Year                     ParkName  Rank    Value  PercentOfTotal\n",
       "0  2017           Natchez Trace PKWY     7  6124808          0.0258\n",
       "1  2017  Chesapeake & Ohio Canal NHP     8  4888436          0.0206\n",
       "2  2017                  Cape Cod NS     9  4083505          0.0172\n",
       "3  2017       Delaware Water Gap NRA    10  4068529          0.0172\n",
       "4  2017              Gulf Islands NS    11  4012129          0.0169"
      ]
     },
     "execution_count": 7,
     "metadata": {},
     "output_type": "execute_result"
    }
   ],
   "source": [
    "file = \"./data/Clean_Annual Park Ranking Report 2017.csv\"\n",
    "df= pd.read_csv(file)\n",
    "df.head()"
   ]
  },
  {
   "cell_type": "code",
   "execution_count": 8,
   "metadata": {},
   "outputs": [
    {
     "data": {
      "text/html": [
       "<div>\n",
       "<style scoped>\n",
       "    .dataframe tbody tr th:only-of-type {\n",
       "        vertical-align: middle;\n",
       "    }\n",
       "\n",
       "    .dataframe tbody tr th {\n",
       "        vertical-align: top;\n",
       "    }\n",
       "\n",
       "    .dataframe thead th {\n",
       "        text-align: right;\n",
       "    }\n",
       "</style>\n",
       "<table border=\"1\" class=\"dataframe\">\n",
       "  <thead>\n",
       "    <tr style=\"text-align: right;\">\n",
       "      <th></th>\n",
       "      <th>Year</th>\n",
       "      <th>ParkName</th>\n",
       "      <th>Rank</th>\n",
       "      <th>Value</th>\n",
       "      <th>PercentOfTotal</th>\n",
       "    </tr>\n",
       "  </thead>\n",
       "  <tbody>\n",
       "    <tr>\n",
       "      <th>0</th>\n",
       "      <td>2017</td>\n",
       "      <td>Natchez Trace PKWY</td>\n",
       "      <td>7</td>\n",
       "      <td>6124808</td>\n",
       "      <td>0.0258</td>\n",
       "    </tr>\n",
       "    <tr>\n",
       "      <th>1</th>\n",
       "      <td>2017</td>\n",
       "      <td>Chesapeake &amp; Ohio Canal NHP</td>\n",
       "      <td>8</td>\n",
       "      <td>4888436</td>\n",
       "      <td>0.0206</td>\n",
       "    </tr>\n",
       "    <tr>\n",
       "      <th>2</th>\n",
       "      <td>2017</td>\n",
       "      <td>Cape Cod NS</td>\n",
       "      <td>9</td>\n",
       "      <td>4083505</td>\n",
       "      <td>0.0172</td>\n",
       "    </tr>\n",
       "    <tr>\n",
       "      <th>3</th>\n",
       "      <td>2017</td>\n",
       "      <td>Delaware Water Gap NRA</td>\n",
       "      <td>10</td>\n",
       "      <td>4068529</td>\n",
       "      <td>0.0172</td>\n",
       "    </tr>\n",
       "    <tr>\n",
       "      <th>4</th>\n",
       "      <td>2017</td>\n",
       "      <td>Gulf Islands NS</td>\n",
       "      <td>11</td>\n",
       "      <td>4012129</td>\n",
       "      <td>0.0169</td>\n",
       "    </tr>\n",
       "    <tr>\n",
       "      <th>5</th>\n",
       "      <td>2017</td>\n",
       "      <td>Yellowstone NP</td>\n",
       "      <td>12</td>\n",
       "      <td>3806306</td>\n",
       "      <td>0.0161</td>\n",
       "    </tr>\n",
       "  </tbody>\n",
       "</table>\n",
       "</div>"
      ],
      "text/plain": [
       "   Year                     ParkName  Rank    Value  PercentOfTotal\n",
       "0  2017           Natchez Trace PKWY     7  6124808          0.0258\n",
       "1  2017  Chesapeake & Ohio Canal NHP     8  4888436          0.0206\n",
       "2  2017                  Cape Cod NS     9  4083505          0.0172\n",
       "3  2017       Delaware Water Gap NRA    10  4068529          0.0172\n",
       "4  2017              Gulf Islands NS    11  4012129          0.0169\n",
       "5  2017               Yellowstone NP    12  3806306          0.0161"
      ]
     },
     "execution_count": 8,
     "metadata": {},
     "output_type": "execute_result"
    }
   ],
   "source": [
    "Report2017_df =df.loc[(df[\"Rank\"]<13)]\n",
    "Report2017_df"
   ]
  },
  {
   "cell_type": "code",
   "execution_count": 9,
   "metadata": {},
   "outputs": [
    {
     "data": {
      "text/plain": [
       "['Year', 'ParkName', 'Rank', 'Value', 'PercentOfTotal']"
      ]
     },
     "execution_count": 9,
     "metadata": {},
     "output_type": "execute_result"
    }
   ],
   "source": [
    "list(Report2017_df.columns.values)"
   ]
  },
  {
   "cell_type": "code",
   "execution_count": 10,
   "metadata": {},
   "outputs": [
    {
     "data": {
      "text/plain": [
       "Year                int64\n",
       "ParkName           object\n",
       "Rank                int64\n",
       "Value               int64\n",
       "PercentOfTotal    float64\n",
       "dtype: object"
      ]
     },
     "execution_count": 10,
     "metadata": {},
     "output_type": "execute_result"
    }
   ],
   "source": [
    "Report2017_df.dtypes"
   ]
  },
  {
   "cell_type": "code",
   "execution_count": 14,
   "metadata": {},
   "outputs": [],
   "source": [
    "#Output pandas dataframe into CSV file\n",
    "\n",
    "Report2017_df.to_csv(\"./data/visits_2017.csv\")"
   ]
  }
 ],
 "metadata": {
  "kernelspec": {
   "display_name": "Python 3",
   "language": "python",
   "name": "python3"
  },
  "language_info": {
   "codemirror_mode": {
    "name": "ipython",
    "version": 3
   },
   "file_extension": ".py",
   "mimetype": "text/x-python",
   "name": "python",
   "nbconvert_exporter": "python",
   "pygments_lexer": "ipython3",
   "version": "3.6.10"
  }
 },
 "nbformat": 4,
 "nbformat_minor": 4
}
