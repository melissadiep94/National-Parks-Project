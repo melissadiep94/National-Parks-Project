{
 "cells": [
  {
   "cell_type": "code",
   "execution_count": 1,
   "metadata": {},
   "outputs": [],
   "source": [
    "import os\n",
    "import pandas as pd\n",
    "import numpy\n",
    "import urllib.request, json\n",
    "import time\n",
    "from datetime import date\n",
    "import requests\n",
    "import pymongo"
   ]
  },
  {
   "cell_type": "code",
   "execution_count": 3,
   "metadata": {},
   "outputs": [
    {
     "data": {
      "text/html": [
       "<div>\n",
       "<style scoped>\n",
       "    .dataframe tbody tr th:only-of-type {\n",
       "        vertical-align: middle;\n",
       "    }\n",
       "\n",
       "    .dataframe tbody tr th {\n",
       "        vertical-align: top;\n",
       "    }\n",
       "\n",
       "    .dataframe thead th {\n",
       "        text-align: right;\n",
       "    }\n",
       "</style>\n",
       "<table border=\"1\" class=\"dataframe\">\n",
       "  <thead>\n",
       "    <tr style=\"text-align: right;\">\n",
       "      <th></th>\n",
       "      <th>Year</th>\n",
       "      <th>ParkName</th>\n",
       "      <th>Rank</th>\n",
       "      <th>Value</th>\n",
       "      <th>PercentOfTotal</th>\n",
       "    </tr>\n",
       "  </thead>\n",
       "  <tbody>\n",
       "    <tr>\n",
       "      <th>0</th>\n",
       "      <td>2019</td>\n",
       "      <td>Blue Ridge PKWY</td>\n",
       "      <td>1</td>\n",
       "      <td>14099485</td>\n",
       "      <td>0.0595</td>\n",
       "    </tr>\n",
       "    <tr>\n",
       "      <th>1</th>\n",
       "      <td>2019</td>\n",
       "      <td>Golden Gate NRA</td>\n",
       "      <td>2</td>\n",
       "      <td>12400045</td>\n",
       "      <td>0.0523</td>\n",
       "    </tr>\n",
       "    <tr>\n",
       "      <th>2</th>\n",
       "      <td>2019</td>\n",
       "      <td>Great Smoky Mountains NP</td>\n",
       "      <td>3</td>\n",
       "      <td>12095720</td>\n",
       "      <td>0.0510</td>\n",
       "    </tr>\n",
       "    <tr>\n",
       "      <th>3</th>\n",
       "      <td>2019</td>\n",
       "      <td>Gateway NRA</td>\n",
       "      <td>4</td>\n",
       "      <td>8404728</td>\n",
       "      <td>0.0355</td>\n",
       "    </tr>\n",
       "    <tr>\n",
       "      <th>4</th>\n",
       "      <td>2019</td>\n",
       "      <td>Lake Mead NRA</td>\n",
       "      <td>5</td>\n",
       "      <td>8016510</td>\n",
       "      <td>0.0338</td>\n",
       "    </tr>\n",
       "  </tbody>\n",
       "</table>\n",
       "</div>"
      ],
      "text/plain": [
       "   Year                  ParkName  Rank     Value  PercentOfTotal\n",
       "0  2019           Blue Ridge PKWY     1  14099485          0.0595\n",
       "1  2019           Golden Gate NRA     2  12400045          0.0523\n",
       "2  2019  Great Smoky Mountains NP     3  12095720          0.0510\n",
       "3  2019               Gateway NRA     4   8404728          0.0355\n",
       "4  2019             Lake Mead NRA     5   8016510          0.0338"
      ]
     },
     "execution_count": 3,
     "metadata": {},
     "output_type": "execute_result"
    }
   ],
   "source": [
    "file = \"./data/Clean_Annual Park Ranking Report- 2019.csv\"\n",
    "df= pd.read_csv(file)\n",
    "df.head()"
   ]
  },
  {
   "cell_type": "code",
   "execution_count": 5,
   "metadata": {},
   "outputs": [
    {
     "data": {
      "text/html": [
       "<div>\n",
       "<style scoped>\n",
       "    .dataframe tbody tr th:only-of-type {\n",
       "        vertical-align: middle;\n",
       "    }\n",
       "\n",
       "    .dataframe tbody tr th {\n",
       "        vertical-align: top;\n",
       "    }\n",
       "\n",
       "    .dataframe thead th {\n",
       "        text-align: right;\n",
       "    }\n",
       "</style>\n",
       "<table border=\"1\" class=\"dataframe\">\n",
       "  <thead>\n",
       "    <tr style=\"text-align: right;\">\n",
       "      <th></th>\n",
       "      <th>Year</th>\n",
       "      <th>ParkName</th>\n",
       "      <th>Rank</th>\n",
       "      <th>Value</th>\n",
       "      <th>PercentOfTotal</th>\n",
       "    </tr>\n",
       "  </thead>\n",
       "  <tbody>\n",
       "    <tr>\n",
       "      <th>0</th>\n",
       "      <td>2019</td>\n",
       "      <td>Blue Ridge PKWY</td>\n",
       "      <td>1</td>\n",
       "      <td>14099485</td>\n",
       "      <td>0.0595</td>\n",
       "    </tr>\n",
       "    <tr>\n",
       "      <th>1</th>\n",
       "      <td>2019</td>\n",
       "      <td>Golden Gate NRA</td>\n",
       "      <td>2</td>\n",
       "      <td>12400045</td>\n",
       "      <td>0.0523</td>\n",
       "    </tr>\n",
       "    <tr>\n",
       "      <th>2</th>\n",
       "      <td>2019</td>\n",
       "      <td>Great Smoky Mountains NP</td>\n",
       "      <td>3</td>\n",
       "      <td>12095720</td>\n",
       "      <td>0.0510</td>\n",
       "    </tr>\n",
       "    <tr>\n",
       "      <th>3</th>\n",
       "      <td>2019</td>\n",
       "      <td>Gateway NRA</td>\n",
       "      <td>4</td>\n",
       "      <td>8404728</td>\n",
       "      <td>0.0355</td>\n",
       "    </tr>\n",
       "    <tr>\n",
       "      <th>4</th>\n",
       "      <td>2019</td>\n",
       "      <td>Lake Mead NRA</td>\n",
       "      <td>5</td>\n",
       "      <td>8016510</td>\n",
       "      <td>0.0338</td>\n",
       "    </tr>\n",
       "  </tbody>\n",
       "</table>\n",
       "</div>"
      ],
      "text/plain": [
       "   Year                  ParkName  Rank     Value  PercentOfTotal\n",
       "0  2019           Blue Ridge PKWY     1  14099485          0.0595\n",
       "1  2019           Golden Gate NRA     2  12400045          0.0523\n",
       "2  2019  Great Smoky Mountains NP     3  12095720          0.0510\n",
       "3  2019               Gateway NRA     4   8404728          0.0355\n",
       "4  2019             Lake Mead NRA     5   8016510          0.0338"
      ]
     },
     "execution_count": 5,
     "metadata": {},
     "output_type": "execute_result"
    }
   ],
   "source": [
    "Report2019_df =df.loc[(df[\"Rank\"]<6)]\n",
    "Report2019_df"
   ]
  },
  {
   "cell_type": "code",
   "execution_count": 6,
   "metadata": {},
   "outputs": [
    {
     "data": {
      "text/plain": [
       "['Year', 'ParkName', 'Rank', 'Value', 'PercentOfTotal']"
      ]
     },
     "execution_count": 6,
     "metadata": {},
     "output_type": "execute_result"
    }
   ],
   "source": [
    "list(Report2019_df.columns.values)"
   ]
  },
  {
   "cell_type": "code",
   "execution_count": 7,
   "metadata": {},
   "outputs": [
    {
     "data": {
      "text/plain": [
       "Year                int64\n",
       "ParkName           object\n",
       "Rank                int64\n",
       "Value               int64\n",
       "PercentOfTotal    float64\n",
       "dtype: object"
      ]
     },
     "execution_count": 7,
     "metadata": {},
     "output_type": "execute_result"
    }
   ],
   "source": [
    "Report2019_df.dtypes"
   ]
  },
  {
   "cell_type": "code",
   "execution_count": 8,
   "metadata": {},
   "outputs": [],
   "source": [
    "#Output pandas dataframe into CSV file\n",
    "\n",
    "Report2019_df.to_csv(\"./data/visits_2019.csv\")"
   ]
  }
 ],
 "metadata": {
  "kernelspec": {
   "display_name": "Python 3",
   "language": "python",
   "name": "python3"
  },
  "language_info": {
   "codemirror_mode": {
    "name": "ipython",
    "version": 3
   },
   "file_extension": ".py",
   "mimetype": "text/x-python",
   "name": "python",
   "nbconvert_exporter": "python",
   "pygments_lexer": "ipython3",
   "version": "3.6.10"
  }
 },
 "nbformat": 4,
 "nbformat_minor": 4
}
